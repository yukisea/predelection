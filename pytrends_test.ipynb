{
 "cells": [
  {
   "cell_type": "code",
   "execution_count": 1,
   "metadata": {},
   "outputs": [],
   "source": [
    "# import\n",
    "from pytrends.request import TrendReq\n",
    "from itertools import zip_longest\n",
    "from itertools import filterfalse\n",
    "import pandas as pd\n",
    "import matplotlib as mpl\n",
    "import matplotlib.pyplot as plt\n",
    "pytrends = TrendReq(hl='ja-JP', tz=360)"
   ]
  },
  {
   "cell_type": "code",
   "execution_count": 15,
   "metadata": {},
   "outputs": [],
   "source": [
    "results = []"
   ]
  },
  {
   "cell_type": "code",
   "execution_count": 26,
   "metadata": {},
   "outputs": [],
   "source": [
    "# キーワードリスト\n",
    "\n",
    "kw_list = ['徳永エリ','鉢呂吉雄','柿木克弘','森英士','佐藤和夫','中村治','飯田佳宏','森山佳則','水越寛陽']\n"
   ]
  },
  {
   "cell_type": "code",
   "execution_count": 27,
   "metadata": {},
   "outputs": [],
   "source": [
    "# 主キーワード      \n",
    "primary_kw = '長谷川岳'\n",
    "group_by = 4\n",
    "chunks = zip_longest(*[iter(kw_list)]*group_by)\n",
    "p = lambda x: x is None"
   ]
  },
  {
   "cell_type": "code",
   "execution_count": 28,
   "metadata": {},
   "outputs": [],
   "source": [
    "merged_df = None\n",
    "for elems in list(chunks):\n",
    "    elems = list(filterfalse(p, elems))\n",
    "    elems.append(primary_kw)\n",
    "    pytrends.build_payload(elems, cat=0, timeframe='2016-07-01 2016-07-10', geo='JP-13', gprop='')\n",
    "    df = pytrends.interest_over_time()\n",
    "    # 取得結果のスコアは String になる。 float 変換したいので、True/False　が設定されている`isPartial` を削除して float に変換する。   \n",
    "    del df['isPartial']\n",
    "    df = df.astype('float64')\n",
    "    # dataframe　を primary_kw で最大値で正規化する \n",
    "    scaled_dataframe = df.div(df[primary_kw].max(), axis=0)\n",
    "    if merged_df is None:\n",
    "        merged_df = scaled_dataframe\n",
    "    else:\n",
    "        # ValueError: columns overlap but no suffix specified が発生するので、やむなく、'postgresql' を削除\n",
    "        del scaled_dataframe[primary_kw]\n",
    "        merged_df = merged_df.join(scaled_dataframe)\n"
   ]
  },
  {
   "cell_type": "code",
   "execution_count": 29,
   "metadata": {},
   "outputs": [
    {
     "data": {
      "text/html": [
       "<div>\n",
       "<style scoped>\n",
       "    .dataframe tbody tr th:only-of-type {\n",
       "        vertical-align: middle;\n",
       "    }\n",
       "\n",
       "    .dataframe tbody tr th {\n",
       "        vertical-align: top;\n",
       "    }\n",
       "\n",
       "    .dataframe thead th {\n",
       "        text-align: right;\n",
       "    }\n",
       "</style>\n",
       "<table border=\"1\" class=\"dataframe\">\n",
       "  <thead>\n",
       "    <tr style=\"text-align: right;\">\n",
       "      <th></th>\n",
       "      <th>徳永エリ</th>\n",
       "      <th>鉢呂吉雄</th>\n",
       "      <th>柿木克弘</th>\n",
       "      <th>森英士</th>\n",
       "      <th>長谷川岳</th>\n",
       "      <th>佐藤和夫</th>\n",
       "      <th>中村治</th>\n",
       "      <th>飯田佳宏</th>\n",
       "      <th>森山佳則</th>\n",
       "      <th>水越寛陽</th>\n",
       "    </tr>\n",
       "    <tr>\n",
       "      <th>date</th>\n",
       "      <th></th>\n",
       "      <th></th>\n",
       "      <th></th>\n",
       "      <th></th>\n",
       "      <th></th>\n",
       "      <th></th>\n",
       "      <th></th>\n",
       "      <th></th>\n",
       "      <th></th>\n",
       "      <th></th>\n",
       "    </tr>\n",
       "  </thead>\n",
       "  <tbody>\n",
       "    <tr>\n",
       "      <th>2016-07-01</th>\n",
       "      <td>0.157303</td>\n",
       "      <td>0.000000</td>\n",
       "      <td>0.157303</td>\n",
       "      <td>0.0</td>\n",
       "      <td>0.157303</td>\n",
       "      <td>0.00</td>\n",
       "      <td>0.16</td>\n",
       "      <td>0.00</td>\n",
       "      <td>0.0</td>\n",
       "      <td>0.00</td>\n",
       "    </tr>\n",
       "    <tr>\n",
       "      <th>2016-07-02</th>\n",
       "      <td>0.168539</td>\n",
       "      <td>0.000000</td>\n",
       "      <td>0.168539</td>\n",
       "      <td>0.0</td>\n",
       "      <td>0.168539</td>\n",
       "      <td>0.18</td>\n",
       "      <td>0.00</td>\n",
       "      <td>0.00</td>\n",
       "      <td>0.0</td>\n",
       "      <td>0.00</td>\n",
       "    </tr>\n",
       "    <tr>\n",
       "      <th>2016-07-03</th>\n",
       "      <td>0.000000</td>\n",
       "      <td>0.000000</td>\n",
       "      <td>0.000000</td>\n",
       "      <td>0.0</td>\n",
       "      <td>0.168539</td>\n",
       "      <td>0.18</td>\n",
       "      <td>0.00</td>\n",
       "      <td>0.00</td>\n",
       "      <td>0.0</td>\n",
       "      <td>0.00</td>\n",
       "    </tr>\n",
       "    <tr>\n",
       "      <th>2016-07-04</th>\n",
       "      <td>0.000000</td>\n",
       "      <td>0.000000</td>\n",
       "      <td>0.146067</td>\n",
       "      <td>0.0</td>\n",
       "      <td>0.000000</td>\n",
       "      <td>0.15</td>\n",
       "      <td>0.00</td>\n",
       "      <td>0.15</td>\n",
       "      <td>0.0</td>\n",
       "      <td>0.00</td>\n",
       "    </tr>\n",
       "    <tr>\n",
       "      <th>2016-07-05</th>\n",
       "      <td>0.146067</td>\n",
       "      <td>0.000000</td>\n",
       "      <td>0.000000</td>\n",
       "      <td>0.0</td>\n",
       "      <td>0.146067</td>\n",
       "      <td>0.00</td>\n",
       "      <td>0.00</td>\n",
       "      <td>0.00</td>\n",
       "      <td>0.0</td>\n",
       "      <td>0.00</td>\n",
       "    </tr>\n",
       "    <tr>\n",
       "      <th>2016-07-06</th>\n",
       "      <td>0.000000</td>\n",
       "      <td>0.000000</td>\n",
       "      <td>0.000000</td>\n",
       "      <td>0.0</td>\n",
       "      <td>0.146067</td>\n",
       "      <td>0.31</td>\n",
       "      <td>0.00</td>\n",
       "      <td>0.15</td>\n",
       "      <td>0.0</td>\n",
       "      <td>0.15</td>\n",
       "    </tr>\n",
       "    <tr>\n",
       "      <th>2016-07-07</th>\n",
       "      <td>0.000000</td>\n",
       "      <td>0.157303</td>\n",
       "      <td>0.000000</td>\n",
       "      <td>0.0</td>\n",
       "      <td>0.000000</td>\n",
       "      <td>0.00</td>\n",
       "      <td>0.00</td>\n",
       "      <td>0.00</td>\n",
       "      <td>0.0</td>\n",
       "      <td>0.15</td>\n",
       "    </tr>\n",
       "    <tr>\n",
       "      <th>2016-07-08</th>\n",
       "      <td>0.157303</td>\n",
       "      <td>0.000000</td>\n",
       "      <td>0.000000</td>\n",
       "      <td>0.0</td>\n",
       "      <td>0.235955</td>\n",
       "      <td>0.16</td>\n",
       "      <td>0.16</td>\n",
       "      <td>0.00</td>\n",
       "      <td>0.0</td>\n",
       "      <td>0.15</td>\n",
       "    </tr>\n",
       "    <tr>\n",
       "      <th>2016-07-09</th>\n",
       "      <td>0.179775</td>\n",
       "      <td>0.269663</td>\n",
       "      <td>0.179775</td>\n",
       "      <td>0.0</td>\n",
       "      <td>0.539326</td>\n",
       "      <td>0.00</td>\n",
       "      <td>0.00</td>\n",
       "      <td>0.00</td>\n",
       "      <td>0.0</td>\n",
       "      <td>0.35</td>\n",
       "    </tr>\n",
       "    <tr>\n",
       "      <th>2016-07-10</th>\n",
       "      <td>1.123596</td>\n",
       "      <td>0.707865</td>\n",
       "      <td>0.292135</td>\n",
       "      <td>0.0</td>\n",
       "      <td>1.000000</td>\n",
       "      <td>0.18</td>\n",
       "      <td>0.00</td>\n",
       "      <td>0.00</td>\n",
       "      <td>0.0</td>\n",
       "      <td>0.00</td>\n",
       "    </tr>\n",
       "  </tbody>\n",
       "</table>\n",
       "</div>"
      ],
      "text/plain": [
       "                徳永エリ      鉢呂吉雄      柿木克弘  森英士      長谷川岳  佐藤和夫   中村治  飯田佳宏  \\\n",
       "date                                                                        \n",
       "2016-07-01  0.157303  0.000000  0.157303  0.0  0.157303  0.00  0.16  0.00   \n",
       "2016-07-02  0.168539  0.000000  0.168539  0.0  0.168539  0.18  0.00  0.00   \n",
       "2016-07-03  0.000000  0.000000  0.000000  0.0  0.168539  0.18  0.00  0.00   \n",
       "2016-07-04  0.000000  0.000000  0.146067  0.0  0.000000  0.15  0.00  0.15   \n",
       "2016-07-05  0.146067  0.000000  0.000000  0.0  0.146067  0.00  0.00  0.00   \n",
       "2016-07-06  0.000000  0.000000  0.000000  0.0  0.146067  0.31  0.00  0.15   \n",
       "2016-07-07  0.000000  0.157303  0.000000  0.0  0.000000  0.00  0.00  0.00   \n",
       "2016-07-08  0.157303  0.000000  0.000000  0.0  0.235955  0.16  0.16  0.00   \n",
       "2016-07-09  0.179775  0.269663  0.179775  0.0  0.539326  0.00  0.00  0.00   \n",
       "2016-07-10  1.123596  0.707865  0.292135  0.0  1.000000  0.18  0.00  0.00   \n",
       "\n",
       "            森山佳則  水越寛陽  \n",
       "date                    \n",
       "2016-07-01   0.0  0.00  \n",
       "2016-07-02   0.0  0.00  \n",
       "2016-07-03   0.0  0.00  \n",
       "2016-07-04   0.0  0.00  \n",
       "2016-07-05   0.0  0.00  \n",
       "2016-07-06   0.0  0.15  \n",
       "2016-07-07   0.0  0.15  \n",
       "2016-07-08   0.0  0.15  \n",
       "2016-07-09   0.0  0.35  \n",
       "2016-07-10   0.0  0.00  "
      ]
     },
     "execution_count": 29,
     "metadata": {},
     "output_type": "execute_result"
    }
   ],
   "source": [
    "# Dataframe を表示\n",
    "merged_df"
   ]
  },
  {
   "cell_type": "code",
   "execution_count": 31,
   "metadata": {},
   "outputs": [
    {
     "data": {
      "text/plain": [
       "徳永エリ    0.193258\n",
       "鉢呂吉雄    0.113483\n",
       "柿木克弘    0.094382\n",
       "森英士     0.000000\n",
       "長谷川岳    0.256180\n",
       "佐藤和夫    0.116000\n",
       "中村治     0.032000\n",
       "飯田佳宏    0.030000\n",
       "森山佳則    0.000000\n",
       "水越寛陽    0.080000\n",
       "dtype: float64"
      ]
     },
     "execution_count": 31,
     "metadata": {},
     "output_type": "execute_result"
    }
   ],
   "source": [
    "merged_df.mean()"
   ]
  },
  {
   "cell_type": "code",
   "execution_count": 33,
   "metadata": {},
   "outputs": [
    {
     "data": {
      "text/plain": [
       "徳永エリ    2.111414\n",
       "鉢呂吉雄    1.239842\n",
       "柿木克弘    1.031156\n",
       "森英士     0.000000\n",
       "長谷川岳    2.798851\n",
       "佐藤和夫    1.267339\n",
       "中村治     0.349611\n",
       "飯田佳宏    0.327760\n",
       "森山佳則    0.000000\n",
       "水越寛陽    0.874027\n",
       "dtype: float64"
      ]
     },
     "execution_count": 33,
     "metadata": {},
     "output_type": "execute_result"
    }
   ],
   "source": [
    "merged_df.mean()/merged_df.mean().mean()"
   ]
  },
  {
   "cell_type": "code",
   "execution_count": 14,
   "metadata": {},
   "outputs": [
    {
     "data": {
      "text/plain": [
       "<matplotlib.axes._subplots.AxesSubplot at 0x119671400>"
      ]
     },
     "execution_count": 14,
     "metadata": {},
     "output_type": "execute_result"
    },
    {
     "data": {
      "image/png": "[encoded data removed]",
      "text/plain": [
       "<Figure size 864x576 with 1 Axes>"
      ]
     },
     "metadata": {
      "needs_background": "light"
     },
     "output_type": "display_data"
    }
   ],
   "source": [
    "merged_df.plot(figsize=(12,8))"
   ]
  },
  {
   "cell_type": "code",
   "execution_count": 23,
   "metadata": {},
   "outputs": [
    {
     "data": {
      "text/html": [
       "<div>\n",
       "<style scoped>\n",
       "    .dataframe tbody tr th:only-of-type {\n",
       "        vertical-align: middle;\n",
       "    }\n",
       "\n",
       "    .dataframe tbody tr th {\n",
       "        vertical-align: top;\n",
       "    }\n",
       "\n",
       "    .dataframe thead th {\n",
       "        text-align: right;\n",
       "    }\n",
       "</style>\n",
       "<table border=\"1\" class=\"dataframe\">\n",
       "  <thead>\n",
       "    <tr style=\"text-align: right;\">\n",
       "      <th></th>\n",
       "      <th>JP番号</th>\n",
       "      <th>県</th>\n",
       "      <th>キーワードリスト</th>\n",
       "    </tr>\n",
       "  </thead>\n",
       "  <tbody>\n",
       "    <tr>\n",
       "      <th>0</th>\n",
       "      <td>1</td>\n",
       "      <td>北海道</td>\n",
       "      <td>長谷川岳','徳永エリ','鉢呂吉雄','柿木克弘','森英士','佐藤和夫','中村治',...</td>\n",
       "    </tr>\n",
       "    <tr>\n",
       "      <th>1</th>\n",
       "      <td>2</td>\n",
       "      <td>青森</td>\n",
       "      <td>田名部匡代','山崎力','三國佑貴'</td>\n",
       "    </tr>\n",
       "    <tr>\n",
       "      <th>2</th>\n",
       "      <td>3</td>\n",
       "      <td>岩手</td>\n",
       "      <td>木戸口英司','田中真一','石川幹子'</td>\n",
       "    </tr>\n",
       "    <tr>\n",
       "      <th>3</th>\n",
       "      <td>4</td>\n",
       "      <td>宮城</td>\n",
       "      <td>桜井充','熊谷大','油井哲史'</td>\n",
       "    </tr>\n",
       "    <tr>\n",
       "      <th>4</th>\n",
       "      <td>5</td>\n",
       "      <td>秋田</td>\n",
       "      <td>石井浩郎','松浦大悟','西野晃'</td>\n",
       "    </tr>\n",
       "  </tbody>\n",
       "</table>\n",
       "</div>"
      ],
      "text/plain": [
       "  JP番号    県                                           キーワードリスト\n",
       "0    1  北海道  長谷川岳','徳永エリ','鉢呂吉雄','柿木克弘','森英士','佐藤和夫','中村治',...\n",
       "1    2   青森                                田名部匡代','山崎力','三國佑貴'\n",
       "2    3   岩手                               木戸口英司','田中真一','石川幹子'\n",
       "3    4   宮城                                  桜井充','熊谷大','油井哲史'\n",
       "4    5   秋田                                 石井浩郎','松浦大悟','西野晃'"
      ]
     },
     "execution_count": 23,
     "metadata": {},
     "output_type": "execute_result"
    }
   ],
   "source": [
    "data = pd.read_excel(\"2016候補者.xlsx\")\n",
    "data.head()"
   ]
  },
  {
   "cell_type": "code",
   "execution_count": 25,
   "metadata": {},
   "outputs": [
    {
     "data": {
      "text/plain": [
       "pandas.core.series.Series"
      ]
     },
     "execution_count": 25,
     "metadata": {},
     "output_type": "execute_result"
    }
   ],
   "source": [
    "type(data[\"キーワードリスト\"])"
   ]
  },
  {
   "cell_type": "code",
   "execution_count": null,
   "metadata": {},
   "outputs": [],
   "source": [
    "for i in a:\n",
    "    "
   ]
  }
 ],
 "metadata": {
  "kernelspec": {
   "display_name": "Python 3",
   "language": "python",
   "name": "python3"
  },
  "language_info": {
   "codemirror_mode": {
    "name": "ipython",
    "version": 3
   },
   "file_extension": ".py",
   "mimetype": "text/x-python",
   "name": "python",
   "nbconvert_exporter": "python",
   "pygments_lexer": "ipython3",
   "version": "3.7.1"
  }
 },
 "nbformat": 4,
 "nbformat_minor": 2
}
